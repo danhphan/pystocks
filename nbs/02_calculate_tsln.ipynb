{
 "cells": [
  {
   "cell_type": "code",
   "execution_count": 20,
   "metadata": {},
   "outputs": [],
   "source": [
    "import numpy as np\n",
    "import pandas as pd\n",
    "import numpy_financial as npf\n",
    "from datetime import datetime\n",
    "import matplotlib.pyplot as plt"
   ]
  },
  {
   "cell_type": "markdown",
   "metadata": {},
   "source": [
    "### Load stock data"
   ]
  },
  {
   "cell_type": "code",
   "execution_count": 21,
   "metadata": {},
   "outputs": [],
   "source": [
    "# Get list of stock names\n",
    "names = pd.read_csv(\"../data/stock_list_full.csv\", header=None, names=['code'])\n",
    "names = list(names['code'].str.lower())\n",
    "ten_names = ['aaa','vnm','fpt','pnj','lix','ssi','vic','vcb','vnindex','vn30index']"
   ]
  },
  {
   "cell_type": "code",
   "execution_count": 22,
   "metadata": {},
   "outputs": [],
   "source": [
    "# Get data of each stock\n",
    "def get_data(code, path):\n",
    "    f = path+\"/\"+code+\".jl\"    \n",
    "    df = pd.read_json(f, lines=True)\n",
    "    df['transc_date'] =pd.to_datetime(df['transc_date'], dayfirst=True)\n",
    "    df.index = df['transc_date']\n",
    "    return df\n",
    "\n",
    "def filter_data(df, start=None, end=None):\n",
    "    df = df[(df['transc_date'] >= start) & (df['transc_date'] <= end)]\n",
    "    return df"
   ]
  },
  {
   "cell_type": "code",
   "execution_count": 23,
   "metadata": {},
   "outputs": [],
   "source": [
    "path = \"../data\"\n",
    "sta = datetime(2015,4,20)\n",
    "end = datetime(2020,4,20)"
   ]
  },
  {
   "cell_type": "code",
   "execution_count": 24,
   "metadata": {},
   "outputs": [
    {
     "data": {
      "text/plain": [
       "(3324, 8)"
      ]
     },
     "execution_count": 24,
     "metadata": {},
     "output_type": "execute_result"
    }
   ],
   "source": [
    "df1 = get_data('hpg', path)\n",
    "df1.shape"
   ]
  },
  {
   "cell_type": "code",
   "execution_count": 25,
   "metadata": {},
   "outputs": [],
   "source": [
    "df = filter_data(df1, sta, end)"
   ]
  },
  {
   "cell_type": "code",
   "execution_count": 26,
   "metadata": {},
   "outputs": [
    {
     "data": {
      "text/plain": [
       "(1249, 8)"
      ]
     },
     "execution_count": 26,
     "metadata": {},
     "output_type": "execute_result"
    }
   ],
   "source": [
    "df.shape"
   ]
  },
  {
   "cell_type": "markdown",
   "metadata": {},
   "source": [
    "### Calculate RoIs"
   ]
  },
  {
   "cell_type": "code",
   "execution_count": 27,
   "metadata": {},
   "outputs": [],
   "source": [
    "def daily_rate(df):\n",
    "    \"\"\"\n",
    "    Get daily rate from a serie of adjusted/closed prices\n",
    "    \"\"\"\n",
    "    n = df.shape[0] - 1    \n",
    "    sta_price = float(str(df[0]).replace(',',''))\n",
    "    end_price = float(str(df[n]).replace(',',''))\n",
    "    return (end_price/sta_price)**(1/n) - 1\n",
    "\n",
    "def yearly_rate(daily_rate):\n",
    "    \"\"\"Get yearly rate from a daily rate\"\"\"\n",
    "    return (1+daily_rate)**(249.8) - 1\n",
    "\n",
    "def get_rois(stk_names, start, end):\n",
    "    d_rois = []\n",
    "    for code in stk_names:\n",
    "        df = get_data(code,path)\n",
    "        data = filter_data(df, start, end)['adjted_price']\n",
    "        if data.shape[0] > 0:\n",
    "            roi = daily_rate(data)\n",
    "            d_rois.append([code, roi])\n",
    "    df = pd.DataFrame(d_rois, columns=['code','daily_roi'])\n",
    "    df['yearly_roi'] = df['daily_roi'].apply(yearly_rate)\n",
    "    return df"
   ]
  },
  {
   "cell_type": "code",
   "execution_count": 28,
   "metadata": {},
   "outputs": [],
   "source": [
    "# Set window period\n",
    "sta = datetime(2017,1,1)\n",
    "end = datetime(2020,1,1)\n",
    "df_rois = get_rois(names, sta, end)"
   ]
  },
  {
   "cell_type": "code",
   "execution_count": 30,
   "metadata": {},
   "outputs": [
    {
     "data": {
      "text/html": [
       "<div>\n",
       "<style scoped>\n",
       "    .dataframe tbody tr th:only-of-type {\n",
       "        vertical-align: middle;\n",
       "    }\n",
       "\n",
       "    .dataframe tbody tr th {\n",
       "        vertical-align: top;\n",
       "    }\n",
       "\n",
       "    .dataframe thead th {\n",
       "        text-align: right;\n",
       "    }\n",
       "</style>\n",
       "<table border=\"1\" class=\"dataframe\">\n",
       "  <thead>\n",
       "    <tr style=\"text-align: right;\">\n",
       "      <th></th>\n",
       "      <th>code</th>\n",
       "      <th>daily_roi</th>\n",
       "      <th>yearly_roi</th>\n",
       "    </tr>\n",
       "  </thead>\n",
       "  <tbody>\n",
       "    <tr>\n",
       "      <th>10</th>\n",
       "      <td>ctd</td>\n",
       "      <td>0.001582</td>\n",
       "      <td>0.484069</td>\n",
       "    </tr>\n",
       "    <tr>\n",
       "      <th>64</th>\n",
       "      <td>tcb</td>\n",
       "      <td>0.000933</td>\n",
       "      <td>0.262237</td>\n",
       "    </tr>\n",
       "    <tr>\n",
       "      <th>4</th>\n",
       "      <td>bmp</td>\n",
       "      <td>0.000872</td>\n",
       "      <td>0.243321</td>\n",
       "    </tr>\n",
       "    <tr>\n",
       "      <th>53</th>\n",
       "      <td>pow</td>\n",
       "      <td>0.000869</td>\n",
       "      <td>0.242435</td>\n",
       "    </tr>\n",
       "    <tr>\n",
       "      <th>66</th>\n",
       "      <td>tpb</td>\n",
       "      <td>0.000823</td>\n",
       "      <td>0.228092</td>\n",
       "    </tr>\n",
       "    <tr>\n",
       "      <th>26</th>\n",
       "      <td>hdb</td>\n",
       "      <td>0.000661</td>\n",
       "      <td>0.179563</td>\n",
       "    </tr>\n",
       "    <tr>\n",
       "      <th>41</th>\n",
       "      <td>ntp</td>\n",
       "      <td>0.000638</td>\n",
       "      <td>0.172652</td>\n",
       "    </tr>\n",
       "    <tr>\n",
       "      <th>69</th>\n",
       "      <td>vci</td>\n",
       "      <td>0.000508</td>\n",
       "      <td>0.135225</td>\n",
       "    </tr>\n",
       "    <tr>\n",
       "      <th>51</th>\n",
       "      <td>pme</td>\n",
       "      <td>0.000408</td>\n",
       "      <td>0.107266</td>\n",
       "    </tr>\n",
       "    <tr>\n",
       "      <th>0</th>\n",
       "      <td>aaa</td>\n",
       "      <td>0.000365</td>\n",
       "      <td>0.095484</td>\n",
       "    </tr>\n",
       "    <tr>\n",
       "      <th>14</th>\n",
       "      <td>dgc</td>\n",
       "      <td>0.000344</td>\n",
       "      <td>0.089827</td>\n",
       "    </tr>\n",
       "    <tr>\n",
       "      <th>24</th>\n",
       "      <td>hbc</td>\n",
       "      <td>0.000324</td>\n",
       "      <td>0.084276</td>\n",
       "    </tr>\n",
       "    <tr>\n",
       "      <th>65</th>\n",
       "      <td>tlg</td>\n",
       "      <td>0.000323</td>\n",
       "      <td>0.083889</td>\n",
       "    </tr>\n",
       "    <tr>\n",
       "      <th>77</th>\n",
       "      <td>vpb</td>\n",
       "      <td>0.000315</td>\n",
       "      <td>0.081722</td>\n",
       "    </tr>\n",
       "    <tr>\n",
       "      <th>13</th>\n",
       "      <td>dbc</td>\n",
       "      <td>0.000278</td>\n",
       "      <td>0.071929</td>\n",
       "    </tr>\n",
       "  </tbody>\n",
       "</table>\n",
       "</div>"
      ],
      "text/plain": [
       "   code  daily_roi  yearly_roi\n",
       "10  ctd   0.001582    0.484069\n",
       "64  tcb   0.000933    0.262237\n",
       "4   bmp   0.000872    0.243321\n",
       "53  pow   0.000869    0.242435\n",
       "66  tpb   0.000823    0.228092\n",
       "26  hdb   0.000661    0.179563\n",
       "41  ntp   0.000638    0.172652\n",
       "69  vci   0.000508    0.135225\n",
       "51  pme   0.000408    0.107266\n",
       "0   aaa   0.000365    0.095484\n",
       "14  dgc   0.000344    0.089827\n",
       "24  hbc   0.000324    0.084276\n",
       "65  tlg   0.000323    0.083889\n",
       "77  vpb   0.000315    0.081722\n",
       "13  dbc   0.000278    0.071929"
      ]
     },
     "execution_count": 30,
     "metadata": {},
     "output_type": "execute_result"
    }
   ],
   "source": [
    "# Top stock performance\n",
    "df_rois.sort_values('yearly_roi', ascending=False).head(15)"
   ]
  },
  {
   "cell_type": "code",
   "execution_count": null,
   "metadata": {},
   "outputs": [],
   "source": []
  },
  {
   "cell_type": "code",
   "execution_count": null,
   "metadata": {},
   "outputs": [],
   "source": []
  }
 ],
 "metadata": {
  "kernelspec": {
   "display_name": "Python 3",
   "language": "python",
   "name": "python3"
  },
  "language_info": {
   "codemirror_mode": {
    "name": "ipython",
    "version": 3
   },
   "file_extension": ".py",
   "mimetype": "text/x-python",
   "name": "python",
   "nbconvert_exporter": "python",
   "pygments_lexer": "ipython3",
   "version": "3.8.5"
  }
 },
 "nbformat": 4,
 "nbformat_minor": 4
}
